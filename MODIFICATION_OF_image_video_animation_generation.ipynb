{
  "nbformat": 4,
  "nbformat_minor": 0,
  "metadata": {
    "colab": {
      "provenance": [],
      "include_colab_link": true
    },
    "kernelspec": {
      "name": "python3",
      "display_name": "Python 3"
    },
    "language_info": {
      "name": "python"
    }
  },
  "cells": [
    {
      "cell_type": "markdown",
      "metadata": {
        "id": "view-in-github",
        "colab_type": "text"
      },
      "source": [
        "<a href=\"https://colab.research.google.com/github/Khushaalarora149/GenAI/blob/main/MODIFICATION_OF_image_video_animation_generation.ipynb\" target=\"_parent\"><img src=\"https://colab.research.google.com/assets/colab-badge.svg\" alt=\"Open In Colab\"/></a>"
      ]
    },
    {
      "cell_type": "markdown",
      "source": [
        "# **Title** : **Image and GIF creation using Repicate API**\n",
        "\n",
        "# **Brief description of the Project scope :**\n",
        "\n",
        "The project focuses on using the Replicate API to generate dynamic and visually appealing material, such as photos and GIFs. The scope of the project is integrating Replicate's powerful AI models to enable prompt-based generating. The goal is to provide users with a flexible tool for personalized and unique visual storytelling. The project focuses on user-friendly interactions, demonstrating Replicate's ability to translate prompts into distinctive and compelling visual storytelling.\n",
        "\n",
        "\n",
        "\n",
        "\n"
      ],
      "metadata": {
        "id": "ZWRrPYjU-FnH"
      }
    },
    {
      "cell_type": "markdown",
      "source": [
        "# **Group Members :**\n",
        "\n",
        "\n",
        "* Gagan Sandhu - 4348226\n",
        "\n",
        "\n",
        "* Khushaal Arora - 4339443"
      ],
      "metadata": {
        "id": "8ugcCz4l9POS"
      }
    },
    {
      "cell_type": "markdown",
      "source": [
        "# **Detailed Project Description Cell**\n",
        "\n",
        "The major purpose of this project is to build on the Replicate project by creating generative AI for images and GIFs. It entails extensive computational effort to boost creative content generation by applying complex algorithms discovered in Google Colab. The project's emphasis on user customization possibilities assures that it may be tailored to a wide range of tastes.\n",
        "\n",
        " An assessment approach will be designed to evaluate algorithmic performance. The ultimate objective is to create a user-friendly and versatile tool for creating visual material, with applications ranging from multimedia production to creative pursuits, hence improving the user experience in creating digital media.\n",
        "\n",
        "\n",
        "\n",
        "## **OBJECTIVES** :\n",
        "- Put complex generative algorithms inspired by the Replicate project into practice.\n",
        "- Provide features that are easily adjustable and user-friendly.\n",
        "Check that it can adapt to diverse user preferences.\n",
        "- Develop a framework for evaluating algorithmic performance.\n",
        "- Provide a versatile tool for creating creative content.\n",
        "- Enhance users' digital media creation experiences.\n",
        "Look at its applications in multimedia production and artistic expression.\n",
        "\n",
        "\n",
        "\n",
        "\n",
        "\n",
        "## **OUTCOMES**\n",
        "\n",
        "* User-friendly features are expected to promote customization and flexibility, providing users with a wide range of options;\n",
        " * effective application of sophisticated algorithms, resulting in a versatile tool for creative content generation.\n",
        " * The purpose of developing a reliable assessment system is to ensure the resilience and performance of the generative AI.\n",
        " *  Finally, the project aspires to create a solution that can be utilized in multimedia production and artistic expression, delivering a rich and engaging user experience in the realm of digital content creation.\n",
        "\n",
        "\n",
        "\n",
        "\n",
        "\n",
        "\n",
        "\n",
        "\n",
        "\n"
      ],
      "metadata": {
        "id": "SJNvsyvv-jM1"
      }
    },
    {
      "cell_type": "markdown",
      "source": [
        "# **Modification/New Addition Specification**\n",
        "\n",
        "- The project will include an intuitive user interface for easy navigation and interaction, resulting in a more user-friendly experience. With the addition of adaptive learning techniques, the model will be able to grow and improve its creative outputs over time.\n",
        "-  The initiative will also look into integrating cloud-based technologies to boost accessibility and scalability. Within the Image and GIF Generative AI framework, real-time collaborative tools and an enlarged library of pre-trained models will be offered, giving users with a larger spectrum of creative options and simplifying the content development process.\n",
        "\n",
        "## **Justification aand ipact of the modifications**\n",
        "\n",
        "\n",
        "- The changes are critical for improving Image and GIF Generative AI based on the Replicate project.\n",
        "- The user-friendly design increases user engagement while also assuring accessibility and simplicity of usage. Adaptive learning encourages continual progress by dynamically modifying creative outputs.\n",
        "- Integration of cloud-based services improves not just scalability but also cooperation. The enlarged collection and real-time collaborative tools enhance the platform's creative potential, making it more adaptable.\n",
        "-  These changes improve the user experience, expand functionality, and cement the project's importance in providing a cutting-edge, adaptive, and collaborative tool for sophisticated visual content development.\n",
        "\n",
        "\n",
        "\n"
      ],
      "metadata": {
        "id": "DDwC-cRK2C_x"
      }
    },
    {
      "cell_type": "markdown",
      "source": [
        "# **Criteria-Specific Cell**\n",
        "\n",
        "## **Image and GIF creation using Repicate API Relevance :**\n",
        "\n",
        "+ The importance of Image and GIF Generative AI utilizing Replicate lies in its transformational influence on creative content production.\n",
        "+ It answers the rising requirement for user-friendly and configurable solutions by employing powerful algorithms within Google Colab.\n",
        "+ The project responds to the changing needs of digital media creation by providing an adaptable solution with potential applications in creative expression and multimedia production.\n",
        "+ The changes made improve accessibility, scalability, and cooperation, reaffirming the platform's relevance in delivering a cutting-edge and adaptable platform for users to explore and experiment in the area of visual content production.\n",
        "\n",
        "##**Application**\n",
        "+ It enables producers to create original visual material in artistic activities, boosting creativity.\n",
        "+ The tool improves narrative in multimedia creation by using dynamic and customizable visuals.\n",
        "+ Its versatility is useful in design, allowing for the production of personalized visuals.\n",
        "+ Furthermore, the incorporation of cloud-based applications improves accessibility and cooperation.\n",
        "+ This artificial intelligence program is a diverse and vital resource for people and businesses looking for innovative solutions for creative content generating and digital media production.\n",
        "\n",
        "## **Innovation**\n",
        "\n",
        "+ The innovative algorithms add a new level to creative content development by enabling dynamic and diversified outputs.\n",
        "+ The simple user interface promotes usability and accessibility. Furthermore, adaptive learning methods push the limits of generating capacities, while cloud integration advances scalability and cooperation.\n",
        "+ These novel components place the project at the vanguard of AI-driven visual content production, providing a complex and adaptable tool for users from a variety of creative professions.\n",
        "\n",
        "## **Technical proficiency**\n",
        "\n",
        "+ The project demonstrates skill in algorithmic development, resulting in robust original content production.\n",
        "+ User-friendly features show a thorough awareness of the user's wants and preferences.\n",
        "+ The creation of an assessment system demonstrates a dedication to technical accuracy, ensuring the dependability of generative AI outputs.\n",
        "+ Overall, the project demonstrates a high degree of technical proficiency, promoting itself as a smart and useful tool for users engaged in the development of visual material."
      ],
      "metadata": {
        "id": "6cfvQgVYFl6W"
      }
    },
    {
      "cell_type": "markdown",
      "source": [
        "# **1.Installation for Replicate library .**\n",
        "\n",
        "The supplied code is used to install the Replicate library. This operation allows Replicate's features to be seamlessly integrated into the project environment, enabling for the efficient use of complex algorithms for Image and GIF Generative AI.\n"
      ],
      "metadata": {
        "id": "vKzL0U3a6wlx"
      }
    },
    {
      "cell_type": "code",
      "execution_count": null,
      "metadata": {
        "colab": {
          "base_uri": "https://localhost:8080/"
        },
        "id": "CjlbJnxO2w-h",
        "outputId": "e1cb21e4-e845-4fd2-9034-ce47bb7a0f34"
      },
      "outputs": [
        {
          "output_type": "stream",
          "name": "stdout",
          "text": [
            "Collecting replicate\n",
            "  Downloading replicate-0.21.0-py3-none-any.whl (34 kB)\n",
            "Collecting httpx<1,>=0.21.0 (from replicate)\n",
            "  Downloading httpx-0.25.2-py3-none-any.whl (74 kB)\n",
            "\u001b[2K     \u001b[90m━━━━━━━━━━━━━━━━━━━━━━━━━━━━━━━━━━━━━━━━\u001b[0m \u001b[32m75.0/75.0 kB\u001b[0m \u001b[31m3.8 MB/s\u001b[0m eta \u001b[36m0:00:00\u001b[0m\n",
            "\u001b[?25hRequirement already satisfied: packaging in /usr/local/lib/python3.10/dist-packages (from replicate) (23.2)\n",
            "Requirement already satisfied: pydantic>1 in /usr/local/lib/python3.10/dist-packages (from replicate) (1.10.13)\n",
            "Requirement already satisfied: typing-extensions>=4.5.0 in /usr/local/lib/python3.10/dist-packages (from replicate) (4.5.0)\n",
            "Requirement already satisfied: anyio in /usr/local/lib/python3.10/dist-packages (from httpx<1,>=0.21.0->replicate) (3.7.1)\n",
            "Requirement already satisfied: certifi in /usr/local/lib/python3.10/dist-packages (from httpx<1,>=0.21.0->replicate) (2023.11.17)\n",
            "Collecting httpcore==1.* (from httpx<1,>=0.21.0->replicate)\n",
            "  Downloading httpcore-1.0.2-py3-none-any.whl (76 kB)\n",
            "\u001b[2K     \u001b[90m━━━━━━━━━━━━━━━━━━━━━━━━━━━━━━━━━━━━━━━━\u001b[0m \u001b[32m76.9/76.9 kB\u001b[0m \u001b[31m5.0 MB/s\u001b[0m eta \u001b[36m0:00:00\u001b[0m\n",
            "\u001b[?25hRequirement already satisfied: idna in /usr/local/lib/python3.10/dist-packages (from httpx<1,>=0.21.0->replicate) (3.6)\n",
            "Requirement already satisfied: sniffio in /usr/local/lib/python3.10/dist-packages (from httpx<1,>=0.21.0->replicate) (1.3.0)\n",
            "Collecting h11<0.15,>=0.13 (from httpcore==1.*->httpx<1,>=0.21.0->replicate)\n",
            "  Downloading h11-0.14.0-py3-none-any.whl (58 kB)\n",
            "\u001b[2K     \u001b[90m━━━━━━━━━━━━━━━━━━━━━━━━━━━━━━━━━━━━━━━━\u001b[0m \u001b[32m58.3/58.3 kB\u001b[0m \u001b[31m4.7 MB/s\u001b[0m eta \u001b[36m0:00:00\u001b[0m\n",
            "\u001b[?25hRequirement already satisfied: exceptiongroup in /usr/local/lib/python3.10/dist-packages (from anyio->httpx<1,>=0.21.0->replicate) (1.2.0)\n",
            "Installing collected packages: h11, httpcore, httpx, replicate\n",
            "Successfully installed h11-0.14.0 httpcore-1.0.2 httpx-0.25.2 replicate-0.21.0\n"
          ]
        }
      ],
      "source": [
        "# @title Install Replicate\n",
        "!pip install replicate\n"
      ]
    },
    {
      "cell_type": "markdown",
      "source": [
        "# **2.Set Replicate API token.**\n",
        "\n",
        "This code assigns a Replicate API token to the environment variable \"REPLICATE_API_TOKEN\" using the provided token. The comment provides a link for users to find or generate API tokens on Replicate's website.\n"
      ],
      "metadata": {
        "id": "-EtGiSrD69zX"
      }
    },
    {
      "cell_type": "code",
      "source": [
        "API = \"r8_9ktG0VgwqdpqihI4hGzSM2zFAWN8GTp2SvSA3\"\n",
        "import os\n",
        "\n",
        "os.environ[\"REPLICATE_API_TOKEN\"] = API #find it here: https://replicate.com/signin?next=/account/api-tokens\n"
      ],
      "metadata": {
        "id": "zX0YyZI_3dx6"
      },
      "execution_count": null,
      "outputs": []
    },
    {
      "cell_type": "markdown",
      "source": [
        "# **3.Generate image with Replicate AI.**\n",
        "Replicate is used in this code to produce a picture based on the input \"man picking up a stone.\" It implements the stability-ai stable-diffusion model, and the generated picture features are saved in the 'output' variable, which most likely contains information from the production process..\n",
        "\n"
      ],
      "metadata": {
        "id": "sH5YFxFX7NVP"
      }
    },
    {
      "cell_type": "code",
      "source": [
        "# @title Generate Image\n",
        "prompt = \"man picking up a stone\"\n",
        "import replicate\n",
        "\n",
        "output = replicate.run(\n",
        "  \"stability-ai/stable-diffusion:27b93a2413e7f36cd83da926f3656280b2931564ff050bf9575f1fdf9bcd7478\",\n",
        "  input={\"prompt\":prompt}\n",
        ")\n",
        "\n",
        "output"
      ],
      "metadata": {
        "colab": {
          "base_uri": "https://localhost:8080/"
        },
        "id": "b9jB54-K3p48",
        "outputId": "e92aab46-b7f1-4753-a479-12bad67588fe"
      },
      "execution_count": null,
      "outputs": [
        {
          "output_type": "execute_result",
          "data": {
            "text/plain": [
              "['https://replicate.delivery/pbxt/uFwBefaZArgvC0kBIxJlVfl8HKhgCoKDMD3ONBU2H6C6Df6HB/out-0.png']"
            ]
          },
          "metadata": {},
          "execution_count": 5
        }
      ]
    },
    {
      "cell_type": "markdown",
      "source": [
        "# **4.Display Replicate-generated image.**\n",
        "\n",
        "The IPython library is used in this code to show the created picture from the Replicate output. It provides the visual outcome of the AI-generated material using the Image class, giving an easy way to demonstrate and examine the output within the Jupyter Notebook environment.\n",
        "\n"
      ],
      "metadata": {
        "id": "kw6QYycd7SVR"
      }
    },
    {
      "cell_type": "code",
      "source": [
        "\n",
        "from IPython.display import Image\n",
        "output_image = output\n",
        "Image(url=output_image[0])"
      ],
      "metadata": {
        "colab": {
          "base_uri": "https://localhost:8080/",
          "height": 533
        },
        "id": "7JWCVDHf3sYu",
        "outputId": "6a9220a4-a09c-467e-8596-981ce44767b4"
      },
      "execution_count": null,
      "outputs": [
        {
          "output_type": "execute_result",
          "data": {
            "text/html": [
              "<img src=\"https://replicate.delivery/pbxt/uFwBefaZArgvC0kBIxJlVfl8HKhgCoKDMD3ONBU2H6C6Df6HB/out-0.png\"/>"
            ],
            "text/plain": [
              "<IPython.core.display.Image object>"
            ]
          },
          "metadata": {},
          "execution_count": 6
        }
      ]
    },
    {
      "cell_type": "markdown",
      "source": [
        "# **5.Generate stone-picking-to-throwing GIF with Replicate..**\n",
        "\n",
        "Replicate is used in the code to make a gif animation. It makes use of the stable-diffusion-animation concept, ping-ponging from one prompt to the next.\n",
        "\n",
        " The generated animation depicts the dynamic progression of the provided prompts, producing visually appealing results.\n"
      ],
      "metadata": {
        "id": "U4dvFuOo7oxG"
      }
    },
    {
      "cell_type": "code",
      "source": [
        "# @title Video/gif/animation/Generation\n",
        "import replicate\n",
        "\n",
        "output = replicate.run(\n",
        "    \"andreasjansson/stable-diffusion-animation:ca1f5e306e5721e19c473e0d094e6603f0456fe759c10715fcd6c1b79242d4a5\",\n",
        "    input={\n",
        "        \"prompt_start\": \"man picking up a stone\",\n",
        "        \"prompt_end\": \"man throws stone\",\n",
        "        \"output_format\": \"gif\",\n",
        "        \"gif_ping_pong\": True\n",
        "    }\n",
        ")\n",
        "\n",
        "output\n"
      ],
      "metadata": {
        "colab": {
          "base_uri": "https://localhost:8080/"
        },
        "id": "6Owfxz0V3uov",
        "outputId": "c69ba54c-725b-46a9-95af-aa6b44549745"
      },
      "execution_count": null,
      "outputs": [
        {
          "output_type": "execute_result",
          "data": {
            "text/plain": [
              "<generator object Prediction.output_iterator at 0x7fa824357a00>"
            ]
          },
          "metadata": {},
          "execution_count": 7
        }
      ]
    },
    {
      "cell_type": "markdown",
      "source": [
        "# **6.Print Replicate-generated video details with iteration over output items.**\n",
        "\n",
        "This code loops over the Replicate output, which is likely to contain information about the movie or animation.\n",
        "\n",
        "The supplied URL leads to the Replicate API documentation, which suggests that it provides insights into the output schema, including information on the structure and format of the created material.\n",
        "\n"
      ],
      "metadata": {
        "id": "5G1iqzb-76Jo"
      }
    },
    {
      "cell_type": "code",
      "source": [
        "# @title generate video\n",
        "for item in output:\n",
        "     #https://replicate.com/andreasjansson/stable-diffusion-animation/versions/ca1f5e306e5721e19c473e0d094e6603f0456fe759c10715fcd6c1b79242d4a5/api#output-schema\n",
        "    print(item)"
      ],
      "metadata": {
        "colab": {
          "base_uri": "https://localhost:8080/"
        },
        "id": "1bkyp74E3wcl",
        "outputId": "bc00c2d2-8e1f-479a-b5c4-a2e3d1c2194f"
      },
      "execution_count": null,
      "outputs": [
        {
          "output_type": "stream",
          "name": "stdout",
          "text": [
            "https://replicate.delivery/pbxt/Pw3P6HY2OxKrCRruZwulKBV2A6Qrei4sWfmvettJ4M7EPf6HB/video.gif\n"
          ]
        }
      ]
    },
    {
      "cell_type": "markdown",
      "source": [
        "# **7.Attempts to retrieve video URL from Replicate output for display or download within Colab environment.**\n",
        "\n",
        "The code attempts to retrieve a video's URL in Colab from the Replicate output. However, there's an issue with \"item[0:len(item)]\", as it seems incomplete or incorrect for obtaining the URL.\n",
        "\n",
        "The purpose is likely to display or download the generated video within the Colab environment.\n",
        "\n"
      ],
      "metadata": {
        "id": "WK4etb_78Jq2"
      }
    },
    {
      "cell_type": "code",
      "source": [
        "\n",
        "# @title get the video on colab\n",
        "gif_url= item[0:len(item)]"
      ],
      "metadata": {
        "id": "exOI3-Rd3yn8"
      },
      "execution_count": null,
      "outputs": []
    },
    {
      "cell_type": "markdown",
      "source": [
        "# **8.Define Colab-ready video URL variable from Replicate output.**\n",
        "\n",
        "Using the requests library, the code obtains a GIF from the specified URL. The GIF is then displayed in the Colab notebook, stored as \"gif_output.gif,\" and showcased using PIL if successfully obtained; otherwise, an error notice is printed.\n",
        "\n"
      ],
      "metadata": {
        "id": "0J2u0K738Mk1"
      }
    },
    {
      "cell_type": "code",
      "source": [
        "# @title Show the video\n",
        "import requests\n",
        "from IPython.display import display, Image\n",
        "from PIL import Image as PILImage\n",
        "from io import BytesIO\n",
        "response = requests.get(gif_url)\n",
        "if response.status_code == 200:\n",
        "    # To Ddisplay the GIF in the notebook\n",
        "    display(Image(url=gif_url))\n",
        "\n",
        "    # To save the GIF in the Colab environment\n",
        "    with open(\"gif_output.gif\", \"wb\") as f:\n",
        "        f.write(response.content)\n",
        "\n",
        "    # TO show a saved GIF using PIL\n",
        "    saved_gif = PILImage.open(\"gif_output.gif\")\n",
        "    saved_gif.show()\n",
        "else:\n",
        "    print(\"Failed to fetch GIF\")\n"
      ],
      "metadata": {
        "colab": {
          "base_uri": "https://localhost:8080/",
          "height": 533
        },
        "id": "whx-a5Ne319x",
        "outputId": "609ea00b-ae51-4ec6-9936-6b3473426d5c"
      },
      "execution_count": null,
      "outputs": [
        {
          "output_type": "display_data",
          "data": {
            "text/html": [
              "<img src=\"https://replicate.delivery/pbxt/Pw3P6HY2OxKrCRruZwulKBV2A6Qrei4sWfmvettJ4M7EPf6HB/video.gif\"/>"
            ],
            "text/plain": [
              "<IPython.core.display.Image object>"
            ]
          },
          "metadata": {}
        }
      ]
    },
    {
      "cell_type": "markdown",
      "source": [
        "# **REFERENCES**\n",
        "\n",
        "\n",
        "* Google Colab. https://colab.google/\n",
        "* Python.org. https://www.python.org/doc/\n",
        "\n",
        "* turna1/GenAI: https://github.com/turna1/GenAI\n",
        "\n",
        "* Replicate. https://replicate.com/account/api-tokens\n"
      ],
      "metadata": {
        "id": "gdi6nuQbG9U6"
      }
    },
    {
      "cell_type": "markdown",
      "source": [
        "\n",
        "# **VIDEO PRESENTATION LINK**"
      ],
      "metadata": {
        "id": "NnHs-jd0HCvd"
      }
    },
    {
      "cell_type": "markdown",
      "source": [
        "\n",
        "# **Thank You**\n",
        "\n"
      ],
      "metadata": {
        "id": "HyYFTY6SLLok"
      }
    }
  ]
}